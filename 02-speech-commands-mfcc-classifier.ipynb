{
  "nbformat": 4,
  "nbformat_minor": 0,
  "metadata": {
    "kernelspec": {
      "display_name": "Python 3",
      "language": "python",
      "name": "python3"
    },
    "language_info": {
      "codemirror_mode": {
        "name": "ipython",
        "version": 3
      },
      "file_extension": ".py",
      "mimetype": "text/x-python",
      "name": "python",
      "nbconvert_exporter": "python",
      "pygments_lexer": "ipython3",
      "version": "3.7.5"
    },
    "colab": {
      "name": "02-speech-commands-mfcc-classifier.ipynb",
      "provenance": [],
      "history_visible": true
    }
  },
  "cells": [
    {
      "cell_type": "code",
      "metadata": {
        "id": "23OLKUAAeAaJ"
      },
      "source": [
        "from os import listdir\n",
        "from os.path import isdir, join\n",
        "from tensorflow.keras import layers, models\n",
        "import numpy as np"
      ],
      "execution_count": 1,
      "outputs": []
    },
    {
      "cell_type": "code",
      "metadata": {
        "colab": {
          "base_uri": "https://localhost:8080/"
        },
        "id": "favkLAFIgBl_",
        "outputId": "cf86cae3-1777-4706-81a3-2e83fd815c36"
      },
      "source": [
        "from google.colab import drive\n",
        "drive.mount('/content/drive')\n"
      ],
      "execution_count": 2,
      "outputs": [
        {
          "output_type": "stream",
          "text": [
            "Mounted at /content/drive\n"
          ],
          "name": "stdout"
        }
      ]
    },
    {
      "cell_type": "code",
      "metadata": {
        "colab": {
          "base_uri": "https://localhost:8080/"
        },
        "id": "9UxPwfYReAaJ",
        "outputId": "ce669e20-03c8-452d-cb56-f6d8fe8aafc9"
      },
      "source": [
        "# Create list of all targets (minus background noise)\n",
        "dataset_path = '/content/drive/MyDrive/datasets1sfinal'\n",
        "all_targets = all_targets = [name for name in listdir(dataset_path) if isdir(join(dataset_path, name))]\n",
        "#all_targets.remove('_background_noise_')\n",
        "all_targets.remove('PawnToSOLO')\n",
        "\n",
        "all_targets.sort()\n",
        "print(all_targets)"
      ],
      "execution_count": 47,
      "outputs": [
        {
          "output_type": "stream",
          "text": [
            "['eight', 'dog', 'down', 'backward', 'bird', 'bed', 'forward', 'five', 'follow', 'cat', 'no', 'house', 'four', 'learn', 'go', 'nine', 'off', 'left', 'marvin', 'happy', 'stop', 'three', 'on', 'six', 'seven', 'two', 'right', 'tree', 'sheila', 'one', 'up', 'PawnToSOLOmulti']\n"
          ],
          "name": "stdout"
        }
      ]
    },
    {
      "cell_type": "code",
      "metadata": {
        "id": "vCpPPHRgeAaK"
      },
      "source": [
        "# Settings\n",
        "feature_sets_path = '/content/drive/MyDrive/datasets1sfinal'\n",
        "feature_sets_filename = 'all_targets_mfcc_sets.npz'\n",
        "model_filename = '/content/drive/MyDrive/datasets1sfinal/wake_word_pawnto_model.h5'\n",
        "wake_word = 'PawnToSOLOmulti'"
      ],
      "execution_count": 50,
      "outputs": []
    },
    {
      "cell_type": "code",
      "metadata": {
        "colab": {
          "base_uri": "https://localhost:8080/"
        },
        "id": "8iTm5odzeAaK",
        "outputId": "4a433644-c5d2-4c32-a0ed-e861c6ab6986"
      },
      "source": [
        "# Load feature sets\n",
        "feature_sets = np.load(join(feature_sets_path, feature_sets_filename))\n",
        "print(feature_sets.files)"
      ],
      "execution_count": 51,
      "outputs": [
        {
          "output_type": "stream",
          "text": [
            "['x_train', 'y_train', 'x_val', 'y_val', 'x_test', 'y_test']\n"
          ],
          "name": "stdout"
        }
      ]
    },
    {
      "cell_type": "code",
      "metadata": {
        "id": "2pedUQl8eAaK"
      },
      "source": [
        "# Assign feature sets\n",
        "x_train = feature_sets['x_train']\n",
        "y_train = feature_sets['y_train']\n",
        "x_val = feature_sets['x_val']\n",
        "y_val = feature_sets['y_val']\n",
        "x_test = feature_sets['x_test']\n",
        "y_test = feature_sets['y_test']"
      ],
      "execution_count": 52,
      "outputs": []
    },
    {
      "cell_type": "code",
      "metadata": {
        "colab": {
          "base_uri": "https://localhost:8080/"
        },
        "id": "R5QXRy4EeAaK",
        "outputId": "ecfdf66d-d79c-4429-aaca-7e8f7aa86245"
      },
      "source": [
        "# Look at tensor dimensions\n",
        "print(x_train.shape)\n",
        "print(x_val.shape)\n",
        "print(x_test.shape)"
      ],
      "execution_count": 53,
      "outputs": [
        {
          "output_type": "stream",
          "text": [
            "(6983, 16, 16)\n",
            "(864, 16, 16)\n",
            "(868, 16, 16)\n"
          ],
          "name": "stdout"
        }
      ]
    },
    {
      "cell_type": "code",
      "metadata": {
        "colab": {
          "base_uri": "https://localhost:8080/"
        },
        "id": "F3w_uws4eAaL",
        "outputId": "c4eb74d2-fc4a-463c-9421-4a677aac18a3"
      },
      "source": [
        "# Peek at labels\n",
        "print(y_val)"
      ],
      "execution_count": 54,
      "outputs": [
        {
          "output_type": "stream",
          "text": [
            "[15. 23.  2. 16.  3.  1. 24. 21.  4. 25. 28. 23. 25.  1. 11. 31. 15. 21.\n",
            " 30.  0.  0. 15.  1. 11.  8. 25.  1. 23.  8. 24.  8. 29. 26. 22.  6.  0.\n",
            "  2. 30. 19. 18. 15.  2.  6. 16.  0. 29.  6.  3. 17.  5. 20. 13. 21. 16.\n",
            " 27.  0. 17. 11.  8. 24. 17. 30. 29. 24. 22. 18. 23.  3.  7. 19. 17. 14.\n",
            "  0. 28. 17. 20. 11.  8.  3. 23. 29. 23. 18. 18. 21.  3. 15. 21.  3. 26.\n",
            " 21. 29. 26. 15. 19. 24. 15.  8. 13. 17. 17. 11. 14. 22.  1. 11.  0. 17.\n",
            " 11.  8.  6. 11. 11. 23. 18. 25. 23.  0. 31.  9.  6. 12.  0. 21. 26. 15.\n",
            " 12. 10.  8. 10. 23.  8. 12. 22. 22.  3. 11.  2. 18. 12. 30. 30. 29. 30.\n",
            "  1.  3. 11. 30. 17. 24.  8. 14. 16. 14. 14. 17.  1. 12.  3.  5. 15. 26.\n",
            "  9. 29. 22. 24. 23.  9. 16. 26. 10. 26. 17. 25.  3. 14. 10. 15.  8.  8.\n",
            " 10. 22.  3. 16. 22.  3. 30. 20. 16.  7. 10.  3. 10. 26. 25. 14. 22. 30.\n",
            " 21. 26. 10.  5. 10. 23. 31.  2. 11. 24.  1. 15.  3. 18. 23. 29. 16.  1.\n",
            "  0. 30.  0. 25. 13. 24. 18. 28. 18. 14. 24. 10. 20. 29. 22. 13. 27.  3.\n",
            " 11. 15. 15. 17. 13.  3. 21. 12. 13. 22. 26. 18.  3.  3. 19. 13. 18. 15.\n",
            " 19. 13. 21. 25. 17. 16.  0.  3. 15. 26. 22. 24. 22.  8. 19. 28. 22. 21.\n",
            " 15. 14. 18. 11. 17. 15.  5.  3. 19. 13.  1. 24. 19. 18. 18. 23. 16. 18.\n",
            "  8. 15. 13. 31. 23.  3. 22. 16. 14. 22. 31. 29.  6. 20. 27. 25. 25.  1.\n",
            " 17. 28.  4. 12. 15.  0. 27.  0. 20.  8. 13.  3. 21. 28. 12. 30.  4. 15.\n",
            " 16.  8. 22. 27. 13. 13. 21.  5. 11. 15.  6.  0. 11. 13.  3. 18.  0.  3.\n",
            " 30. 21. 19.  7.  3. 21. 30. 15.  3.  6. 29.  9. 18. 16.  8. 25. 29. 13.\n",
            "  0.  0. 12.  1. 23. 11. 19.  4. 24. 23. 29.  3. 13. 23. 17. 11. 16. 15.\n",
            " 25. 11.  0. 11. 25. 11.  4. 18.  3. 18. 29.  0. 11.  6.  8. 12.  5. 14.\n",
            " 15.  5.  9. 20. 17. 20. 30. 21. 21. 27. 16. 13.  1. 21.  9.  1. 16. 15.\n",
            "  4. 26. 12. 31. 18.  4.  4. 29. 17.  8. 21. 20.  5. 29.  0. 27. 16. 11.\n",
            "  2.  1. 29. 17.  3.  1. 22.  5.  5.  3. 23. 17.  1. 30. 13. 23. 17. 29.\n",
            " 11.  7. 13. 16. 25. 25. 13. 16. 23. 31.  7. 13. 16. 23.  6. 22. 21. 26.\n",
            " 15. 18. 12.  5. 29.  3. 15. 13. 27. 10. 13. 22. 30. 26.  8. 30. 25.  3.\n",
            " 16. 26. 26. 11.  7.  0. 26.  4. 30. 20. 26. 24. 11.  0. 15. 16. 21. 17.\n",
            " 18. 13. 30. 24. 30. 10.  3. 31. 26.  1. 13.  8. 11. 24. 11. 11. 19. 14.\n",
            " 13.  0.  8.  0. 17. 11. 15. 22. 25. 29. 25. 13.  6. 24. 17.  6.  8. 13.\n",
            "  5.  8. 10. 13.  3. 26.  0. 21.  8.  6. 25. 24.  1. 24.  1. 18. 10. 24.\n",
            "  0. 18. 19. 13. 29. 11. 17. 20.  7. 13.  3. 20. 21. 19. 24. 22.  6. 17.\n",
            " 27. 16. 26. 22.  3.  5. 14.  2.  6.  4.  3. 31. 21.  4. 18.  1.  0.  1.\n",
            " 15. 21. 23.  5. 23. 16. 18. 18. 10. 23. 21. 18. 17. 28.  3. 29. 21.  8.\n",
            " 22. 22.  0. 11. 17.  8.  1. 17.  8. 11. 11. 21. 24. 17. 19. 21. 24. 27.\n",
            " 13. 11.  1.  1. 29.  1. 29.  9. 28. 28.  1.  9. 25. 21. 18. 30. 11. 15.\n",
            " 23.  1.  2. 21. 26. 11. 26.  0.  3.  5. 19. 16. 16. 16. 14. 18. 28. 13.\n",
            " 22. 24. 18. 25. 30. 24. 26.  0. 23.  2.  0. 12. 16.  8.  8. 27. 21. 17.\n",
            " 24.  0.  3. 16. 22.  0.  6.  1. 11. 22.  8. 29. 16. 18. 29. 25.  3. 25.\n",
            " 29.  0.  2. 22. 17. 15. 17.  8. 31. 17. 28. 22. 23.  3. 31. 17.  2. 24.\n",
            " 20. 23.  3. 15. 19.  6.  2. 13.  1.  3. 20.  1. 25. 29. 16. 25. 24. 18.\n",
            " 29. 28. 21. 11.  0. 26. 15. 30. 20. 26. 23. 15. 15. 25. 11. 23. 21. 21.\n",
            "  3. 23.  8. 22. 28. 20. 26.  0. 22. 27. 15.  2. 20. 29. 30. 30. 22. 30.\n",
            " 12. 10.  7.  0. 15. 29. 22. 28.  8.  7. 16.  0. 29.  8. 15. 25. 23.  3.\n",
            "  3. 28. 18.  1. 29. 20.  9.  8. 19. 16. 17. 18. 15. 30. 26. 29. 30. 26.\n",
            " 29. 12. 17. 11. 25. 25. 18. 22.  3. 15. 28.  3. 15. 29.  5. 24. 31. 11.\n",
            "  4. 17. 25. 25. 24. 20.  5. 24. 29.  5. 11. 21. 16.  1.  3.  8.  1. 29.\n",
            " 30.  1. 16. 12. 31. 26.  5. 20.  3. 16. 22. 21. 30. 19. 15. 18. 11. 25.]\n"
          ],
          "name": "stdout"
        }
      ]
    },
    {
      "cell_type": "code",
      "metadata": {
        "id": "i4X2jq3eeAaL",
        "outputId": "1a4274de-87e4-4d05-febe-07e54359be11",
        "colab": {
          "base_uri": "https://localhost:8080/"
        }
      },
      "source": [
        "# Convert ground truth arrays to one wake word (1) and 'other' (0)\n",
        "wake_word_index = all_targets.index(wake_word)\n",
        "y_train = np.equal(y_train, wake_word_index).astype('float64')\n",
        "y_val = np.equal(y_val, wake_word_index).astype('float64')\n",
        "y_test = np.equal(y_test, wake_word_index).astype('float64')\n",
        "print('index: '+ str(wake_word_index))"
      ],
      "execution_count": 61,
      "outputs": [
        {
          "output_type": "stream",
          "text": [
            "index: 31\n"
          ],
          "name": "stdout"
        }
      ]
    },
    {
      "cell_type": "code",
      "metadata": {
        "colab": {
          "base_uri": "https://localhost:8080/"
        },
        "id": "yMPK04BleAaL",
        "outputId": "cd398b19-9bd9-4018-804f-de967272279a"
      },
      "source": [
        "# Peek at labels after conversion\n",
        "print(y_val)"
      ],
      "execution_count": 38,
      "outputs": [
        {
          "output_type": "stream",
          "text": [
            "[0. 0. 0. 0. 0. 0. 0. 0. 0. 0. 0. 0. 0. 0. 0. 0. 0. 0. 0. 0. 0. 0. 0. 0.\n",
            " 0. 0. 0. 0. 0. 0. 0. 0. 0. 0. 0. 0. 0. 0. 0. 0. 0. 0. 0. 0. 0. 0. 0. 0.\n",
            " 0. 0. 0. 0. 0. 0. 0. 0. 0. 0. 0. 0. 0. 0. 0. 0. 0. 0. 0. 0. 0. 0. 0. 0.\n",
            " 0. 0. 0. 0. 0. 0. 0. 0. 0. 0. 0. 0. 0. 0. 0. 0. 0. 0. 0. 0. 0. 0. 0. 0.\n",
            " 0. 0. 0. 0. 0. 0. 0. 0. 0. 0. 0. 0. 0. 0. 0. 0. 0. 0. 0. 0. 0. 0. 0. 0.\n",
            " 0. 0. 0. 0. 0. 0. 0. 0. 0. 0. 0. 0. 0. 0. 0. 0. 0. 0. 0. 0. 0. 0. 0. 0.\n",
            " 0. 0. 0. 0. 0. 0. 0. 0. 0. 0. 0. 0. 0. 0. 0. 0. 0. 0. 0. 0. 0. 0. 0. 0.\n",
            " 0. 0. 0. 0. 0. 0. 0. 0. 0. 0. 0. 0. 0. 0. 0. 0. 0. 0. 0. 0. 0. 0. 0. 0.\n",
            " 0. 0. 0. 0. 0. 0. 0. 0. 0. 0. 0. 0. 0. 0. 0. 0. 0. 0. 0. 0. 0. 0. 0. 0.\n",
            " 0. 0. 0. 0. 0. 0. 0. 0. 0. 0. 0. 0. 0. 0. 0. 0. 0. 0. 0. 0. 0. 0. 0. 0.\n",
            " 0. 0. 0. 0. 0. 0. 0. 0. 0. 0. 0. 0. 0. 0. 0. 0. 0. 0. 0. 0. 0. 0. 0. 0.\n",
            " 0. 0. 0. 0. 0. 0. 0. 0. 0. 0. 0. 0. 0. 0. 0. 0. 0. 0. 0. 0. 0. 0. 0. 0.\n",
            " 0. 0. 0. 0. 0. 0. 0. 0. 0. 0. 0. 0. 0. 0. 0. 0. 0. 0. 0. 0. 0. 0. 0. 0.\n",
            " 0. 0. 0. 0. 0. 0. 0. 0. 0. 0. 0. 0. 0. 0. 0. 0. 0. 0. 0. 0. 0. 0. 0. 0.\n",
            " 0. 0. 0. 0. 0. 0. 0. 0. 0. 0. 0. 0. 0. 0. 0. 0. 0. 0. 0. 0. 0. 0. 0. 0.\n",
            " 0. 0. 0. 0. 0. 0. 0. 0. 0. 0. 0. 0. 0. 0. 0. 0. 0. 0. 0. 0. 0. 0. 0. 0.\n",
            " 0. 0. 0. 0. 0. 0. 0. 0. 0. 0. 0. 0. 0. 0. 0. 0. 0. 0. 0. 0. 0. 0. 0. 0.\n",
            " 0. 0. 0. 0. 0. 0. 0. 0. 0. 0. 0. 0. 0. 0. 0. 0. 0. 0. 0. 0. 0. 0. 0. 0.\n",
            " 0. 0. 0. 0. 0. 0. 0. 0. 0. 0. 0. 0. 0. 0. 0. 0. 0. 0. 0. 0. 0. 0. 0. 0.\n",
            " 0. 0. 0. 0. 0. 0. 0. 0. 0. 0. 0. 0. 0. 0. 0. 0. 0. 0. 0. 0. 0. 0. 0. 0.\n",
            " 0. 0. 0. 0. 0. 0. 0. 0. 0. 0. 0. 0. 0. 0. 0. 0. 0. 0. 0. 0. 0. 0. 0. 0.\n",
            " 0. 0. 0. 0. 0. 0. 0. 0. 0. 0. 0. 0. 0. 0. 0. 0. 0. 0. 0. 0. 0. 0. 0. 0.\n",
            " 0. 0. 0. 0. 0. 0. 0. 0. 0. 0. 0. 0. 0. 0. 0. 0. 0. 0. 0. 0. 0. 0. 0. 0.\n",
            " 0. 0. 0. 0. 0. 0. 0. 0. 0. 0. 0. 0. 0. 0. 0. 0. 0. 0. 0. 0. 0. 0. 0. 0.\n",
            " 0. 0. 0. 0. 0. 0. 0. 0. 0. 0. 0. 0. 0. 0. 0. 0. 0. 0. 0. 0. 0. 0. 0. 0.\n",
            " 0. 0. 0. 0. 0. 0. 0. 0. 0. 0. 0. 0. 0. 0. 0. 0. 0. 0. 0. 0. 0. 0. 0. 0.\n",
            " 0. 0. 0. 0. 0. 0. 0. 0. 0. 0. 0. 0. 0. 0. 0. 0. 0. 0. 0. 0. 0. 0. 0. 0.\n",
            " 0. 0. 0. 0. 0. 0. 0. 0. 0. 0. 0. 0. 0. 0. 0. 0. 0. 0. 0. 0. 0. 0. 0. 0.\n",
            " 0. 0. 0. 0. 0. 0. 0. 0. 0. 0. 0. 0. 0. 0. 0. 0. 0. 0. 0. 0. 0. 0. 0. 0.\n",
            " 0. 0. 0. 0. 0. 0. 0. 0. 0. 0. 0. 0. 0. 0. 0. 0. 0. 0. 0. 0. 0. 0. 0. 0.\n",
            " 0. 0. 0. 0. 0. 0. 0. 0. 0. 0. 0. 0. 0. 0. 0. 0. 0. 0. 0. 0. 0. 0. 0. 0.\n",
            " 0. 0. 0. 0. 0. 0. 0. 0. 0. 0. 0. 0. 0. 0. 0. 0. 0. 0. 0. 0. 0. 0. 0. 0.\n",
            " 0. 0. 0. 0. 0. 0. 0. 0. 0. 0. 0. 0. 0. 0. 0. 0. 0. 0. 0. 0. 0. 0. 0. 0.\n",
            " 0. 0. 0. 0. 0. 0. 0. 0. 0. 0. 0. 0. 0. 0. 0. 0. 0. 0. 0. 0. 0. 0. 0. 0.\n",
            " 0. 0. 0. 0. 0. 0. 0. 0. 0. 0. 0. 0. 0. 0. 0. 0. 0. 0. 0. 0. 0. 0. 0. 0.\n",
            " 0. 0. 0. 0. 0. 0. 0. 0. 0. 0. 0. 0. 0. 0. 0. 0. 0. 0. 0. 0. 0. 0. 0. 0.]\n"
          ],
          "name": "stdout"
        }
      ]
    },
    {
      "cell_type": "code",
      "metadata": {
        "colab": {
          "base_uri": "https://localhost:8080/"
        },
        "id": "HnGDS5-IeAaL",
        "outputId": "8e3bb874-90aa-4f62-96bb-c43ec90fce1f"
      },
      "source": [
        "# What percentage of 'stop' appear in validation labels\n",
        "print(sum(y_val) / len(y_val))\n",
        "print(1 - sum(y_val) / len(y_val))"
      ],
      "execution_count": 39,
      "outputs": [
        {
          "output_type": "stream",
          "text": [
            "0.0\n",
            "1.0\n"
          ],
          "name": "stdout"
        }
      ]
    },
    {
      "cell_type": "code",
      "metadata": {
        "colab": {
          "base_uri": "https://localhost:8080/"
        },
        "id": "-TM0Y4J7eAaL",
        "outputId": "7db4df8b-1b77-47e4-dbd3-86066f767a93"
      },
      "source": [
        "# View the dimensions of our input data\n",
        "print(x_train.shape)"
      ],
      "execution_count": 40,
      "outputs": [
        {
          "output_type": "stream",
          "text": [
            "(6983, 16, 16, 1)\n"
          ],
          "name": "stdout"
        }
      ]
    },
    {
      "cell_type": "code",
      "metadata": {
        "colab": {
          "base_uri": "https://localhost:8080/"
        },
        "id": "hm_MHVt9eAaL",
        "outputId": "c479c86b-b799-406f-e93e-98bf05f130d5"
      },
      "source": [
        "# CNN for TF expects (batch, height, width, channels)\n",
        "# So we reshape the input tensors with a \"color\" channel of 1\n",
        "x_train = x_train.reshape(x_train.shape[0], \n",
        "                          x_train.shape[1], \n",
        "                          x_train.shape[2], \n",
        "                          1)\n",
        "x_val = x_val.reshape(x_val.shape[0], \n",
        "                      x_val.shape[1], \n",
        "                      x_val.shape[2], \n",
        "                      1)\n",
        "x_test = x_test.reshape(x_test.shape[0], \n",
        "                        x_test.shape[1], \n",
        "                        x_test.shape[2], \n",
        "                        1)\n",
        "print(x_train.shape)\n",
        "print(x_val.shape)\n",
        "print(x_test.shape)"
      ],
      "execution_count": 33,
      "outputs": [
        {
          "output_type": "stream",
          "text": [
            "(6983, 16, 16, 1)\n",
            "(864, 16, 16, 1)\n",
            "(868, 16, 16, 1)\n"
          ],
          "name": "stdout"
        }
      ]
    },
    {
      "cell_type": "code",
      "metadata": {
        "colab": {
          "base_uri": "https://localhost:8080/"
        },
        "id": "2R4Vhy8ZeAaM",
        "outputId": "b98e9ecc-0cb8-4ebe-fd06-b3eafbbc0897"
      },
      "source": [
        "# Input shape for CNN is size of MFCC of 1 sample\n",
        "sample_shape = x_test.shape[1:]\n",
        "print(sample_shape)"
      ],
      "execution_count": 16,
      "outputs": [
        {
          "output_type": "stream",
          "text": [
            "(16, 16, 1)\n"
          ],
          "name": "stdout"
        }
      ]
    },
    {
      "cell_type": "code",
      "metadata": {
        "id": "-vzgFkDgeAaM"
      },
      "source": [
        "# Build model\n",
        "# Based on: https://www.geeksforgeeks.org/python-image-classification-using-keras/\n",
        "model = models.Sequential()\n",
        "model.add(layers.Conv2D(32, \n",
        "                        (2, 2), \n",
        "                        activation='relu',\n",
        "                        input_shape=sample_shape))\n",
        "model.add(layers.MaxPooling2D(pool_size=(2, 2)))\n",
        "\n",
        "model.add(layers.Conv2D(32, (2, 2), activation='relu'))\n",
        "model.add(layers.MaxPooling2D(pool_size=(2, 2)))\n",
        "\n",
        "model.add(layers.Conv2D(64, (2, 2), activation='relu'))\n",
        "model.add(layers.MaxPooling2D(pool_size=(2, 2)))\n",
        "\n",
        "# Classifier\n",
        "model.add(layers.Flatten())\n",
        "model.add(layers.Dense(64, activation='relu'))\n",
        "model.add(layers.Dropout(0.5))\n",
        "model.add(layers.Dense(1, activation='sigmoid'))"
      ],
      "execution_count": 17,
      "outputs": []
    },
    {
      "cell_type": "code",
      "metadata": {
        "colab": {
          "base_uri": "https://localhost:8080/"
        },
        "id": "Nvh_xmsneAaM",
        "outputId": "8ec29ded-c99a-4a67-9c6f-9969071e03fa"
      },
      "source": [
        "# Display model\n",
        "model.summary()"
      ],
      "execution_count": 18,
      "outputs": [
        {
          "output_type": "stream",
          "text": [
            "Model: \"sequential\"\n",
            "_________________________________________________________________\n",
            "Layer (type)                 Output Shape              Param #   \n",
            "=================================================================\n",
            "conv2d (Conv2D)              (None, 15, 15, 32)        160       \n",
            "_________________________________________________________________\n",
            "max_pooling2d (MaxPooling2D) (None, 7, 7, 32)          0         \n",
            "_________________________________________________________________\n",
            "conv2d_1 (Conv2D)            (None, 6, 6, 32)          4128      \n",
            "_________________________________________________________________\n",
            "max_pooling2d_1 (MaxPooling2 (None, 3, 3, 32)          0         \n",
            "_________________________________________________________________\n",
            "conv2d_2 (Conv2D)            (None, 2, 2, 64)          8256      \n",
            "_________________________________________________________________\n",
            "max_pooling2d_2 (MaxPooling2 (None, 1, 1, 64)          0         \n",
            "_________________________________________________________________\n",
            "flatten (Flatten)            (None, 64)                0         \n",
            "_________________________________________________________________\n",
            "dense (Dense)                (None, 64)                4160      \n",
            "_________________________________________________________________\n",
            "dropout (Dropout)            (None, 64)                0         \n",
            "_________________________________________________________________\n",
            "dense_1 (Dense)              (None, 1)                 65        \n",
            "=================================================================\n",
            "Total params: 16,769\n",
            "Trainable params: 16,769\n",
            "Non-trainable params: 0\n",
            "_________________________________________________________________\n"
          ],
          "name": "stdout"
        }
      ]
    },
    {
      "cell_type": "code",
      "metadata": {
        "id": "kXkJjFbreAaM"
      },
      "source": [
        "# Add training parameters to model\n",
        "model.compile(loss='binary_crossentropy', \n",
        "              optimizer='rmsprop', \n",
        "              metrics=['acc'])"
      ],
      "execution_count": 19,
      "outputs": []
    },
    {
      "cell_type": "code",
      "metadata": {
        "colab": {
          "base_uri": "https://localhost:8080/"
        },
        "id": "4u7Fd4CCeAaM",
        "outputId": "296f059d-1cd7-44bd-c943-eb331c6024e4"
      },
      "source": [
        "# Train\n",
        "history = model.fit(x_train, \n",
        "                    y_train, \n",
        "                    epochs=30, \n",
        "                    batch_size=100, \n",
        "                    validation_data=(x_val, y_val))"
      ],
      "execution_count": 20,
      "outputs": [
        {
          "output_type": "stream",
          "text": [
            "Epoch 1/30\n",
            "70/70 [==============================] - 3s 26ms/step - loss: 0.0277 - acc: 0.9887 - val_loss: 3.4119e-07 - val_acc: 1.0000\n",
            "Epoch 2/30\n",
            "70/70 [==============================] - 1s 21ms/step - loss: 2.7866e-05 - acc: 1.0000 - val_loss: 8.2211e-10 - val_acc: 1.0000\n",
            "Epoch 3/30\n",
            "70/70 [==============================] - 2s 24ms/step - loss: 1.6003e-07 - acc: 1.0000 - val_loss: 3.7944e-12 - val_acc: 1.0000\n",
            "Epoch 4/30\n",
            "70/70 [==============================] - 2s 22ms/step - loss: 5.6500e-09 - acc: 1.0000 - val_loss: 1.4238e-13 - val_acc: 1.0000\n",
            "Epoch 5/30\n",
            "70/70 [==============================] - 2s 23ms/step - loss: 1.9724e-09 - acc: 1.0000 - val_loss: 3.7744e-14 - val_acc: 1.0000\n",
            "Epoch 6/30\n",
            "70/70 [==============================] - 2s 24ms/step - loss: 9.3404e-09 - acc: 1.0000 - val_loss: 5.8385e-16 - val_acc: 1.0000\n",
            "Epoch 7/30\n",
            "70/70 [==============================] - 2s 22ms/step - loss: 1.2084e-11 - acc: 1.0000 - val_loss: 5.6918e-16 - val_acc: 1.0000\n",
            "Epoch 8/30\n",
            "70/70 [==============================] - 2s 22ms/step - loss: 8.6924e-11 - acc: 1.0000 - val_loss: 4.7768e-16 - val_acc: 1.0000\n",
            "Epoch 9/30\n",
            "70/70 [==============================] - 2s 23ms/step - loss: 2.6088e-08 - acc: 1.0000 - val_loss: 7.4097e-18 - val_acc: 1.0000\n",
            "Epoch 10/30\n",
            "70/70 [==============================] - 2s 24ms/step - loss: 2.6449e-11 - acc: 1.0000 - val_loss: 7.0619e-18 - val_acc: 1.0000\n",
            "Epoch 11/30\n",
            "70/70 [==============================] - 2s 23ms/step - loss: 3.2244e-12 - acc: 1.0000 - val_loss: 7.0024e-18 - val_acc: 1.0000\n",
            "Epoch 12/30\n",
            "70/70 [==============================] - 2s 23ms/step - loss: 2.0263e-12 - acc: 1.0000 - val_loss: 6.9664e-18 - val_acc: 1.0000\n",
            "Epoch 13/30\n",
            "70/70 [==============================] - 1s 21ms/step - loss: 1.2610e-12 - acc: 1.0000 - val_loss: 6.9446e-18 - val_acc: 1.0000\n",
            "Epoch 14/30\n",
            "70/70 [==============================] - 2s 24ms/step - loss: 2.5633e-11 - acc: 1.0000 - val_loss: 6.5683e-18 - val_acc: 1.0000\n",
            "Epoch 15/30\n",
            "70/70 [==============================] - 2s 23ms/step - loss: 3.7825e-13 - acc: 1.0000 - val_loss: 6.5615e-18 - val_acc: 1.0000\n",
            "Epoch 16/30\n",
            "70/70 [==============================] - 2s 22ms/step - loss: 4.8561e-12 - acc: 1.0000 - val_loss: 6.4842e-18 - val_acc: 1.0000\n",
            "Epoch 17/30\n",
            "70/70 [==============================] - 2s 23ms/step - loss: 2.5631e-12 - acc: 1.0000 - val_loss: 6.4402e-18 - val_acc: 1.0000\n",
            "Epoch 18/30\n",
            "70/70 [==============================] - 2s 22ms/step - loss: 2.1882e-12 - acc: 1.0000 - val_loss: 6.4069e-18 - val_acc: 1.0000\n",
            "Epoch 19/30\n",
            "70/70 [==============================] - 1s 21ms/step - loss: 1.5019e-11 - acc: 1.0000 - val_loss: 6.1974e-18 - val_acc: 1.0000\n",
            "Epoch 20/30\n",
            "70/70 [==============================] - 2s 23ms/step - loss: 1.2158e-13 - acc: 1.0000 - val_loss: 6.1951e-18 - val_acc: 1.0000\n",
            "Epoch 21/30\n",
            "70/70 [==============================] - 1s 21ms/step - loss: 3.2411e-10 - acc: 1.0000 - val_loss: 3.7775e-18 - val_acc: 1.0000\n",
            "Epoch 22/30\n",
            "70/70 [==============================] - 1s 21ms/step - loss: 8.5960e-11 - acc: 1.0000 - val_loss: 3.2273e-18 - val_acc: 1.0000\n",
            "Epoch 23/30\n",
            "70/70 [==============================] - 1s 21ms/step - loss: 4.9484e-13 - acc: 1.0000 - val_loss: 3.2230e-18 - val_acc: 1.0000\n",
            "Epoch 24/30\n",
            "70/70 [==============================] - 2s 23ms/step - loss: 3.3367e-11 - acc: 1.0000 - val_loss: 3.0302e-18 - val_acc: 1.0000\n",
            "Epoch 25/30\n",
            "70/70 [==============================] - 1s 21ms/step - loss: 9.7749e-13 - acc: 1.0000 - val_loss: 3.0226e-18 - val_acc: 1.0000\n",
            "Epoch 26/30\n",
            "70/70 [==============================] - 1s 21ms/step - loss: 7.5872e-13 - acc: 1.0000 - val_loss: 3.0163e-18 - val_acc: 1.0000\n",
            "Epoch 27/30\n",
            "70/70 [==============================] - 1s 21ms/step - loss: 1.9291e-13 - acc: 1.0000 - val_loss: 3.0148e-18 - val_acc: 1.0000\n",
            "Epoch 28/30\n",
            "70/70 [==============================] - 2s 23ms/step - loss: 5.2383e-13 - acc: 1.0000 - val_loss: 3.0104e-18 - val_acc: 1.0000\n",
            "Epoch 29/30\n",
            "70/70 [==============================] - 2s 22ms/step - loss: 8.4901e-13 - acc: 1.0000 - val_loss: 3.0033e-18 - val_acc: 1.0000\n",
            "Epoch 30/30\n",
            "70/70 [==============================] - 1s 21ms/step - loss: 5.5576e-14 - acc: 1.0000 - val_loss: 3.0028e-18 - val_acc: 1.0000\n"
          ],
          "name": "stdout"
        }
      ]
    },
    {
      "cell_type": "code",
      "metadata": {
        "colab": {
          "base_uri": "https://localhost:8080/",
          "height": 545
        },
        "id": "HMOQjc59eAaM",
        "outputId": "a75fd4c4-2673-47ad-af61-14ff9c79d7ad"
      },
      "source": [
        "# Plot results\n",
        "import matplotlib.pyplot as plt\n",
        "\n",
        "acc = history.history['acc']\n",
        "val_acc = history.history['val_acc']\n",
        "loss = history.history['loss']\n",
        "val_loss = history.history['val_loss']\n",
        "\n",
        "epochs = range(1, len(acc) + 1)\n",
        "\n",
        "plt.plot(epochs, acc, 'bo', label='Training acc')\n",
        "plt.plot(epochs, val_acc, 'b', label='Validation acc')\n",
        "plt.title('Training and validation accuracy')\n",
        "plt.legend()\n",
        "\n",
        "plt.figure()\n",
        "\n",
        "plt.plot(epochs, loss, 'bo', label='Training loss')\n",
        "plt.plot(epochs, val_loss, 'b', label='Validation loss')\n",
        "plt.title('Training and validation loss')\n",
        "plt.legend()\n",
        "\n",
        "plt.show()"
      ],
      "execution_count": 21,
      "outputs": [
        {
          "output_type": "display_data",
          "data": {
            "image/png": "[encoded data removed]",
            "text/plain": [
              "<Figure size 432x288 with 1 Axes>"
            ]
          },
          "metadata": {
            "needs_background": "light"
          }
        },
        {
          "output_type": "display_data",
          "data": {
            "image/png": "[encoded data removed]",
            "text/plain": [
              "<Figure size 432x288 with 1 Axes>"
            ]
          },
          "metadata": {
            "needs_background": "light"
          }
        }
      ]
    },
    {
      "cell_type": "code",
      "metadata": {
        "id": "2VRhWzfUeAaN"
      },
      "source": [
        "# Save the model as a file\n",
        "models.save_model(model, model_filename)"
      ],
      "execution_count": 22,
      "outputs": []
    },
    {
      "cell_type": "code",
      "metadata": {
        "id": "Vnacr3nEeAaN"
      },
      "source": [
        "# See which are 'stop'\n",
        "for idx, y in enumerate(y_test):\n",
        "    if y == 1:\n",
        "        print(idx)"
      ],
      "execution_count": 23,
      "outputs": []
    },
    {
      "cell_type": "code",
      "metadata": {
        "colab": {
          "base_uri": "https://localhost:8080/"
        },
        "id": "4vxAJVvgeAaN",
        "outputId": "250cc37a-efcc-46db-bdfd-31e8836b0d1a"
      },
      "source": [
        "# TEST: Load model and run it against test set\n",
        "model = models.load_model(model_filename)\n",
        "for i in range(10, 20):\n",
        "    print('Answer:', y_test[i], ' Prediction:', model.predict(np.expand_dims(x_test[i], 0)))"
      ],
      "execution_count": null,
      "outputs": [
        {
          "output_type": "stream",
          "text": [
            "Answer: 1.0  Prediction: [[1.]]\n",
            "Answer: 1.0  Prediction: [[1.]]\n",
            "Answer: 1.0  Prediction: [[1.]]\n",
            "Answer: 1.0  Prediction: [[1.]]\n",
            "Answer: 1.0  Prediction: [[1.]]\n",
            "Answer: 1.0  Prediction: [[1.]]\n",
            "Answer: 1.0  Prediction: [[1.]]\n",
            "Answer: 1.0  Prediction: [[1.]]\n",
            "Answer: 1.0  Prediction: [[1.]]\n",
            "Answer: 1.0  Prediction: [[1.]]\n"
          ],
          "name": "stdout"
        }
      ]
    },
    {
      "cell_type": "code",
      "metadata": {
        "colab": {
          "base_uri": "https://localhost:8080/"
        },
        "id": "YXOQEt01eAaN",
        "outputId": "b2e67dbb-afe9-4468-b5d8-53ce4daeee98"
      },
      "source": [
        "# Evaluate model with test set\n",
        "model.evaluate(x=x_test, y=y_test)"
      ],
      "execution_count": null,
      "outputs": [
        {
          "output_type": "stream",
          "text": [
            "4/4 [==============================] - 0s 4ms/step - loss: 8.0287e-10 - acc: 1.0000\n"
          ],
          "name": "stdout"
        },
        {
          "output_type": "execute_result",
          "data": {
            "text/plain": [
              "[8.028742670695976e-10, 1.0]"
            ]
          },
          "metadata": {
            "tags": []
          },
          "execution_count": 55
        }
      ]
    },
    {
      "cell_type": "code",
      "metadata": {
        "id": "qmn1MA0jeAaN"
      },
      "source": [
        ""
      ],
      "execution_count": null,
      "outputs": []
    }
  ]
}