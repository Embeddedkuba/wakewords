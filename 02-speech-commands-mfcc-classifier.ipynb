{
  "nbformat": 4,
  "nbformat_minor": 0,
  "metadata": {
    "kernelspec": {
      "display_name": "Python 3",
      "language": "python",
      "name": "python3"
    },
    "language_info": {
      "codemirror_mode": {
        "name": "ipython",
        "version": 3
      },
      "file_extension": ".py",
      "mimetype": "text/x-python",
      "name": "python",
      "nbconvert_exporter": "python",
      "pygments_lexer": "ipython3",
      "version": "3.7.5"
    },
    "colab": {
      "name": "02-speech-commands-mfcc-classifier.ipynb",
      "provenance": []
    }
  },
  "cells": [
    {
      "cell_type": "code",
      "metadata": {
        "id": "23OLKUAAeAaJ"
      },
      "source": [
        "from os import listdir\n",
        "from os.path import isdir, join\n",
        "from tensorflow.keras import layers, models\n",
        "import numpy as np"
      ],
      "execution_count": null,
      "outputs": []
    },
    {
      "cell_type": "code",
      "metadata": {
        "colab": {
          "base_uri": "https://localhost:8080/"
        },
        "id": "favkLAFIgBl_",
        "outputId": "3800b300-360f-4235-8d05-22e7a46263b5"
      },
      "source": [
        "from google.colab import drive\n",
        "drive.mount('/content/drive')\n"
      ],
      "execution_count": null,
      "outputs": [
        {
          "output_type": "stream",
          "text": [
            "Mounted at /content/drive\n"
          ],
          "name": "stdout"
        }
      ]
    },
    {
      "cell_type": "code",
      "metadata": {
        "colab": {
          "base_uri": "https://localhost:8080/"
        },
        "id": "9UxPwfYReAaJ",
        "outputId": "7c376a5f-6dc8-4b7b-d0d1-d4c2165f1a34"
      },
      "source": [
        "# Create list of all targets (minus background noise)\n",
        "dataset_path = '/content/drive/MyDrive/datasets1sfinal'\n",
        "all_targets = all_targets = [name for name in listdir(dataset_path) if isdir(join(dataset_path, name))]\n",
        "#all_targets.remove('_background_noise_')\n",
        "print(all_targets)"
      ],
      "execution_count": null,
      "outputs": [
        {
          "output_type": "stream",
          "text": [
            "['PawnTo']\n"
          ],
          "name": "stdout"
        }
      ]
    },
    {
      "cell_type": "code",
      "metadata": {
        "id": "vCpPPHRgeAaK"
      },
      "source": [
        "# Settings\n",
        "feature_sets_path = '/content/drive/MyDrive/datasets1sfinal'\n",
        "feature_sets_filename = 'all_targets_mfcc_sets.npz'\n",
        "model_filename = '/content/drive/MyDrive/datasets1sfinal/wake_word_pawnto_model.h5'\n",
        "wake_word = 'PawnTo'"
      ],
      "execution_count": null,
      "outputs": []
    },
    {
      "cell_type": "code",
      "metadata": {
        "colab": {
          "base_uri": "https://localhost:8080/"
        },
        "id": "8iTm5odzeAaK",
        "outputId": "8c19abb2-1d30-450c-b0d3-f878aa4eaf45"
      },
      "source": [
        "# Load feature sets\n",
        "feature_sets = np.load(join(feature_sets_path, feature_sets_filename))\n",
        "print(feature_sets.files)"
      ],
      "execution_count": null,
      "outputs": [
        {
          "output_type": "stream",
          "text": [
            "['x_train', 'y_train', 'x_val', 'y_val', 'x_test', 'y_test']\n"
          ],
          "name": "stdout"
        }
      ]
    },
    {
      "cell_type": "code",
      "metadata": {
        "id": "2pedUQl8eAaK"
      },
      "source": [
        "# Assign feature sets\n",
        "x_train = feature_sets['x_train']\n",
        "y_train = feature_sets['y_train']\n",
        "x_val = feature_sets['x_val']\n",
        "y_val = feature_sets['y_val']\n",
        "x_test = feature_sets['x_test']\n",
        "y_test = feature_sets['y_test']"
      ],
      "execution_count": null,
      "outputs": []
    },
    {
      "cell_type": "code",
      "metadata": {
        "colab": {
          "base_uri": "https://localhost:8080/"
        },
        "id": "R5QXRy4EeAaK",
        "outputId": "48f43a7e-27c5-4cdf-efed-4a7c07474ad6"
      },
      "source": [
        "# Look at tensor dimensions\n",
        "print(x_train.shape)\n",
        "print(x_val.shape)\n",
        "print(x_test.shape)"
      ],
      "execution_count": null,
      "outputs": [
        {
          "output_type": "stream",
          "text": [
            "(300, 16, 16)\n",
            "(100, 16, 16)\n",
            "(100, 16, 16)\n"
          ],
          "name": "stdout"
        }
      ]
    },
    {
      "cell_type": "code",
      "metadata": {
        "colab": {
          "base_uri": "https://localhost:8080/"
        },
        "id": "F3w_uws4eAaL",
        "outputId": "479af1b7-5fad-4334-cb54-e73024aa56b3"
      },
      "source": [
        "# Peek at labels\n",
        "print(y_val)"
      ],
      "execution_count": null,
      "outputs": [
        {
          "output_type": "stream",
          "text": [
            "[0. 0. 0. 0. 0. 0. 0. 0. 0. 0. 0. 0. 0. 0. 0. 0. 0. 0. 0. 0. 0. 0. 0. 0.\n",
            " 0. 0. 0. 0. 0. 0. 0. 0. 0. 0. 0. 0. 0. 0. 0. 0. 0. 0. 0. 0. 0. 0. 0. 0.\n",
            " 0. 0. 0. 0. 0. 0. 0. 0. 0. 0. 0. 0. 0. 0. 0. 0. 0. 0. 0. 0. 0. 0. 0. 0.\n",
            " 0. 0. 0. 0. 0. 0. 0. 0. 0. 0. 0. 0. 0. 0. 0. 0. 0. 0. 0. 0. 0. 0. 0. 0.\n",
            " 0. 0. 0. 0.]\n"
          ],
          "name": "stdout"
        }
      ]
    },
    {
      "cell_type": "code",
      "metadata": {
        "id": "i4X2jq3eeAaL"
      },
      "source": [
        "# Convert ground truth arrays to one wake word (1) and 'other' (0)\n",
        "wake_word_index = all_targets.index(wake_word)\n",
        "y_train = np.equal(y_train, wake_word_index).astype('float64')\n",
        "y_val = np.equal(y_val, wake_word_index).astype('float64')\n",
        "y_test = np.equal(y_test, wake_word_index).astype('float64')"
      ],
      "execution_count": null,
      "outputs": []
    },
    {
      "cell_type": "code",
      "metadata": {
        "colab": {
          "base_uri": "https://localhost:8080/"
        },
        "id": "yMPK04BleAaL",
        "outputId": "cfe5138a-5ef6-41d6-f9da-a157fcb5f7fd"
      },
      "source": [
        "# Peek at labels after conversion\n",
        "print(y_val)"
      ],
      "execution_count": null,
      "outputs": [
        {
          "output_type": "stream",
          "text": [
            "[1. 1. 1. 1. 1. 1. 1. 1. 1. 1. 1. 1. 1. 1. 1. 1. 1. 1. 1. 1. 1. 1. 1. 1.\n",
            " 1. 1. 1. 1. 1. 1. 1. 1. 1. 1. 1. 1. 1. 1. 1. 1. 1. 1. 1. 1. 1. 1. 1. 1.\n",
            " 1. 1. 1. 1. 1. 1. 1. 1. 1. 1. 1. 1. 1. 1. 1. 1. 1. 1. 1. 1. 1. 1. 1. 1.\n",
            " 1. 1. 1. 1. 1. 1. 1. 1. 1. 1. 1. 1. 1. 1. 1. 1. 1. 1. 1. 1. 1. 1. 1. 1.\n",
            " 1. 1. 1. 1.]\n"
          ],
          "name": "stdout"
        }
      ]
    },
    {
      "cell_type": "code",
      "metadata": {
        "colab": {
          "base_uri": "https://localhost:8080/"
        },
        "id": "HnGDS5-IeAaL",
        "outputId": "0d32a7cb-fbb7-4271-a46d-c3f8593871ec"
      },
      "source": [
        "# What percentage of 'stop' appear in validation labels\n",
        "print(sum(y_val) / len(y_val))\n",
        "print(1 - sum(y_val) / len(y_val))"
      ],
      "execution_count": null,
      "outputs": [
        {
          "output_type": "stream",
          "text": [
            "1.0\n",
            "0.0\n"
          ],
          "name": "stdout"
        }
      ]
    },
    {
      "cell_type": "code",
      "metadata": {
        "colab": {
          "base_uri": "https://localhost:8080/"
        },
        "id": "-TM0Y4J7eAaL",
        "outputId": "2b49d80a-b946-4fb8-97f3-59876cf998b7"
      },
      "source": [
        "# View the dimensions of our input data\n",
        "print(x_train.shape)"
      ],
      "execution_count": null,
      "outputs": [
        {
          "output_type": "stream",
          "text": [
            "(300, 16, 16)\n"
          ],
          "name": "stdout"
        }
      ]
    },
    {
      "cell_type": "code",
      "metadata": {
        "colab": {
          "base_uri": "https://localhost:8080/"
        },
        "id": "hm_MHVt9eAaL",
        "outputId": "455b3410-4433-4c16-aa28-bd69cce1fd52"
      },
      "source": [
        "# CNN for TF expects (batch, height, width, channels)\n",
        "# So we reshape the input tensors with a \"color\" channel of 1\n",
        "x_train = x_train.reshape(x_train.shape[0], \n",
        "                          x_train.shape[1], \n",
        "                          x_train.shape[2], \n",
        "                          1)\n",
        "x_val = x_val.reshape(x_val.shape[0], \n",
        "                      x_val.shape[1], \n",
        "                      x_val.shape[2], \n",
        "                      1)\n",
        "x_test = x_test.reshape(x_test.shape[0], \n",
        "                        x_test.shape[1], \n",
        "                        x_test.shape[2], \n",
        "                        1)\n",
        "print(x_train.shape)\n",
        "print(x_val.shape)\n",
        "print(x_test.shape)"
      ],
      "execution_count": null,
      "outputs": [
        {
          "output_type": "stream",
          "text": [
            "(300, 16, 16, 1)\n",
            "(100, 16, 16, 1)\n",
            "(100, 16, 16, 1)\n"
          ],
          "name": "stdout"
        }
      ]
    },
    {
      "cell_type": "code",
      "metadata": {
        "colab": {
          "base_uri": "https://localhost:8080/"
        },
        "id": "2R4Vhy8ZeAaM",
        "outputId": "affd4f8f-143e-4751-9592-9eed381bd8bd"
      },
      "source": [
        "# Input shape for CNN is size of MFCC of 1 sample\n",
        "sample_shape = x_test.shape[1:]\n",
        "print(sample_shape)"
      ],
      "execution_count": null,
      "outputs": [
        {
          "output_type": "stream",
          "text": [
            "(16, 16, 1)\n"
          ],
          "name": "stdout"
        }
      ]
    },
    {
      "cell_type": "code",
      "metadata": {
        "id": "-vzgFkDgeAaM"
      },
      "source": [
        "# Build model\n",
        "# Based on: https://www.geeksforgeeks.org/python-image-classification-using-keras/\n",
        "model = models.Sequential()\n",
        "model.add(layers.Conv2D(32, \n",
        "                        (2, 2), \n",
        "                        activation='relu',\n",
        "                        input_shape=sample_shape))\n",
        "model.add(layers.MaxPooling2D(pool_size=(2, 2)))\n",
        "\n",
        "model.add(layers.Conv2D(32, (2, 2), activation='relu'))\n",
        "model.add(layers.MaxPooling2D(pool_size=(2, 2)))\n",
        "\n",
        "model.add(layers.Conv2D(64, (2, 2), activation='relu'))\n",
        "model.add(layers.MaxPooling2D(pool_size=(2, 2)))\n",
        "\n",
        "# Classifier\n",
        "model.add(layers.Flatten())\n",
        "model.add(layers.Dense(64, activation='relu'))\n",
        "model.add(layers.Dropout(0.5))\n",
        "model.add(layers.Dense(1, activation='sigmoid'))"
      ],
      "execution_count": null,
      "outputs": []
    },
    {
      "cell_type": "code",
      "metadata": {
        "colab": {
          "base_uri": "https://localhost:8080/"
        },
        "id": "Nvh_xmsneAaM",
        "outputId": "1ec9a468-58d7-4219-fa6b-d16913a5127e"
      },
      "source": [
        "# Display model\n",
        "model.summary()"
      ],
      "execution_count": null,
      "outputs": [
        {
          "output_type": "stream",
          "text": [
            "Model: \"sequential_1\"\n",
            "_________________________________________________________________\n",
            "Layer (type)                 Output Shape              Param #   \n",
            "=================================================================\n",
            "conv2d_3 (Conv2D)            (None, 15, 15, 32)        160       \n",
            "_________________________________________________________________\n",
            "max_pooling2d_3 (MaxPooling2 (None, 7, 7, 32)          0         \n",
            "_________________________________________________________________\n",
            "conv2d_4 (Conv2D)            (None, 6, 6, 32)          4128      \n",
            "_________________________________________________________________\n",
            "max_pooling2d_4 (MaxPooling2 (None, 3, 3, 32)          0         \n",
            "_________________________________________________________________\n",
            "conv2d_5 (Conv2D)            (None, 2, 2, 64)          8256      \n",
            "_________________________________________________________________\n",
            "max_pooling2d_5 (MaxPooling2 (None, 1, 1, 64)          0         \n",
            "_________________________________________________________________\n",
            "flatten_1 (Flatten)          (None, 64)                0         \n",
            "_________________________________________________________________\n",
            "dense_2 (Dense)              (None, 64)                4160      \n",
            "_________________________________________________________________\n",
            "dropout_1 (Dropout)          (None, 64)                0         \n",
            "_________________________________________________________________\n",
            "dense_3 (Dense)              (None, 1)                 65        \n",
            "=================================================================\n",
            "Total params: 16,769\n",
            "Trainable params: 16,769\n",
            "Non-trainable params: 0\n",
            "_________________________________________________________________\n"
          ],
          "name": "stdout"
        }
      ]
    },
    {
      "cell_type": "code",
      "metadata": {
        "id": "kXkJjFbreAaM"
      },
      "source": [
        "# Add training parameters to model\n",
        "model.compile(loss='binary_crossentropy', \n",
        "              optimizer='rmsprop', \n",
        "              metrics=['acc'])"
      ],
      "execution_count": null,
      "outputs": []
    },
    {
      "cell_type": "code",
      "metadata": {
        "colab": {
          "base_uri": "https://localhost:8080/"
        },
        "id": "4u7Fd4CCeAaM",
        "outputId": "d6526b05-7cd9-4c94-932f-29c90e5b6aed"
      },
      "source": [
        "# Train\n",
        "history = model.fit(x_train, \n",
        "                    y_train, \n",
        "                    epochs=30, \n",
        "                    batch_size=100, \n",
        "                    validation_data=(x_val, y_val))"
      ],
      "execution_count": null,
      "outputs": [
        {
          "output_type": "stream",
          "text": [
            "Epoch 1/30\n",
            "3/3 [==============================] - 1s 103ms/step - loss: 0.7215 - acc: 0.6433 - val_loss: 0.0443 - val_acc: 1.0000\n",
            "Epoch 2/30\n",
            "3/3 [==============================] - 0s 37ms/step - loss: 0.0744 - acc: 0.9900 - val_loss: 0.0072 - val_acc: 1.0000\n",
            "Epoch 3/30\n",
            "3/3 [==============================] - 0s 32ms/step - loss: 0.0308 - acc: 0.9967 - val_loss: 0.0018 - val_acc: 1.0000\n",
            "Epoch 4/30\n",
            "3/3 [==============================] - 0s 39ms/step - loss: 0.0152 - acc: 1.0000 - val_loss: 6.9019e-04 - val_acc: 1.0000\n",
            "Epoch 5/30\n",
            "3/3 [==============================] - 0s 31ms/step - loss: 0.0122 - acc: 0.9967 - val_loss: 3.0697e-04 - val_acc: 1.0000\n",
            "Epoch 6/30\n",
            "3/3 [==============================] - 0s 32ms/step - loss: 0.0077 - acc: 1.0000 - val_loss: 1.3832e-04 - val_acc: 1.0000\n",
            "Epoch 7/30\n",
            "3/3 [==============================] - 0s 32ms/step - loss: 0.0050 - acc: 1.0000 - val_loss: 7.4149e-05 - val_acc: 1.0000\n",
            "Epoch 8/30\n",
            "3/3 [==============================] - 0s 32ms/step - loss: 0.0046 - acc: 0.9967 - val_loss: 4.3748e-05 - val_acc: 1.0000\n",
            "Epoch 9/30\n",
            "3/3 [==============================] - 0s 32ms/step - loss: 0.0051 - acc: 0.9967 - val_loss: 2.7592e-05 - val_acc: 1.0000\n",
            "Epoch 10/30\n",
            "3/3 [==============================] - 0s 33ms/step - loss: 0.0012 - acc: 1.0000 - val_loss: 1.8296e-05 - val_acc: 1.0000\n",
            "Epoch 11/30\n",
            "3/3 [==============================] - 0s 32ms/step - loss: 0.0013 - acc: 1.0000 - val_loss: 1.1396e-05 - val_acc: 1.0000\n",
            "Epoch 12/30\n",
            "3/3 [==============================] - 0s 35ms/step - loss: 7.1293e-04 - acc: 1.0000 - val_loss: 7.9240e-06 - val_acc: 1.0000\n",
            "Epoch 13/30\n",
            "3/3 [==============================] - 0s 38ms/step - loss: 3.7442e-04 - acc: 1.0000 - val_loss: 5.8121e-06 - val_acc: 1.0000\n",
            "Epoch 14/30\n",
            "3/3 [==============================] - 0s 35ms/step - loss: 6.5909e-04 - acc: 1.0000 - val_loss: 3.6004e-06 - val_acc: 1.0000\n",
            "Epoch 15/30\n",
            "3/3 [==============================] - 0s 42ms/step - loss: 0.0012 - acc: 1.0000 - val_loss: 1.7198e-06 - val_acc: 1.0000\n",
            "Epoch 16/30\n",
            "3/3 [==============================] - 0s 33ms/step - loss: 0.0012 - acc: 1.0000 - val_loss: 7.5818e-07 - val_acc: 1.0000\n",
            "Epoch 17/30\n",
            "3/3 [==============================] - 0s 34ms/step - loss: 1.7634e-04 - acc: 1.0000 - val_loss: 5.5887e-07 - val_acc: 1.0000\n",
            "Epoch 18/30\n",
            "3/3 [==============================] - 0s 31ms/step - loss: 5.4876e-04 - acc: 1.0000 - val_loss: 2.5537e-07 - val_acc: 1.0000\n",
            "Epoch 19/30\n",
            "3/3 [==============================] - 0s 32ms/step - loss: 1.4692e-04 - acc: 1.0000 - val_loss: 1.7912e-07 - val_acc: 1.0000\n",
            "Epoch 20/30\n",
            "3/3 [==============================] - 0s 32ms/step - loss: 2.0751e-04 - acc: 1.0000 - val_loss: 1.1131e-07 - val_acc: 1.0000\n",
            "Epoch 21/30\n",
            "3/3 [==============================] - 0s 30ms/step - loss: 1.2519e-04 - acc: 1.0000 - val_loss: 7.6846e-08 - val_acc: 1.0000\n",
            "Epoch 22/30\n",
            "3/3 [==============================] - 0s 30ms/step - loss: 1.5188e-04 - acc: 1.0000 - val_loss: 4.6747e-08 - val_acc: 1.0000\n",
            "Epoch 23/30\n",
            "3/3 [==============================] - 0s 38ms/step - loss: 6.3044e-04 - acc: 1.0000 - val_loss: 1.7121e-08 - val_acc: 1.0000\n",
            "Epoch 24/30\n",
            "3/3 [==============================] - 0s 31ms/step - loss: 2.9660e-05 - acc: 1.0000 - val_loss: 1.4120e-08 - val_acc: 1.0000\n",
            "Epoch 25/30\n",
            "3/3 [==============================] - 0s 31ms/step - loss: 1.4341e-05 - acc: 1.0000 - val_loss: 1.0846e-08 - val_acc: 1.0000\n",
            "Epoch 26/30\n",
            "3/3 [==============================] - 0s 34ms/step - loss: 4.5491e-05 - acc: 1.0000 - val_loss: 7.7224e-09 - val_acc: 1.0000\n",
            "Epoch 27/30\n",
            "3/3 [==============================] - 0s 32ms/step - loss: 9.0447e-05 - acc: 1.0000 - val_loss: 3.6917e-09 - val_acc: 1.0000\n",
            "Epoch 28/30\n",
            "3/3 [==============================] - 0s 31ms/step - loss: 1.7755e-05 - acc: 1.0000 - val_loss: 2.9905e-09 - val_acc: 1.0000\n",
            "Epoch 29/30\n",
            "3/3 [==============================] - 0s 33ms/step - loss: 8.1132e-05 - acc: 1.0000 - val_loss: 1.5365e-09 - val_acc: 1.0000\n",
            "Epoch 30/30\n",
            "3/3 [==============================] - 0s 31ms/step - loss: 6.5476e-05 - acc: 1.0000 - val_loss: 7.3107e-10 - val_acc: 1.0000\n"
          ],
          "name": "stdout"
        }
      ]
    },
    {
      "cell_type": "code",
      "metadata": {
        "colab": {
          "base_uri": "https://localhost:8080/",
          "height": 545
        },
        "id": "HMOQjc59eAaM",
        "outputId": "f10b02e5-a774-4850-c549-804d80daba9b"
      },
      "source": [
        "# Plot results\n",
        "import matplotlib.pyplot as plt\n",
        "\n",
        "acc = history.history['acc']\n",
        "val_acc = history.history['val_acc']\n",
        "loss = history.history['loss']\n",
        "val_loss = history.history['val_loss']\n",
        "\n",
        "epochs = range(1, len(acc) + 1)\n",
        "\n",
        "plt.plot(epochs, acc, 'bo', label='Training acc')\n",
        "plt.plot(epochs, val_acc, 'b', label='Validation acc')\n",
        "plt.title('Training and validation accuracy')\n",
        "plt.legend()\n",
        "\n",
        "plt.figure()\n",
        "\n",
        "plt.plot(epochs, loss, 'bo', label='Training loss')\n",
        "plt.plot(epochs, val_loss, 'b', label='Validation loss')\n",
        "plt.title('Training and validation loss')\n",
        "plt.legend()\n",
        "\n",
        "plt.show()"
      ],
      "execution_count": null,
      "outputs": [
        {
          "output_type": "display_data",
          "data": {
            "image/png": "[encoded data removed]",
            "text/plain": [
              "<Figure size 432x288 with 1 Axes>"
            ]
          },
          "metadata": {
            "tags": [],
            "needs_background": "light"
          }
        },
        {
          "output_type": "display_data",
          "data": {
            "image/png": "[encoded data removed]",
            "text/plain": [
              "<Figure size 432x288 with 1 Axes>"
            ]
          },
          "metadata": {
            "tags": [],
            "needs_background": "light"
          }
        }
      ]
    },
    {
      "cell_type": "code",
      "metadata": {
        "id": "2VRhWzfUeAaN"
      },
      "source": [
        "# Save the model as a file\n",
        "models.save_model(model, model_filename)"
      ],
      "execution_count": null,
      "outputs": []
    },
    {
      "cell_type": "code",
      "metadata": {
        "colab": {
          "base_uri": "https://localhost:8080/"
        },
        "id": "Vnacr3nEeAaN",
        "outputId": "0bd45cc5-1e28-462c-e9d0-b719342451c9"
      },
      "source": [
        "# See which are 'stop'\n",
        "for idx, y in enumerate(y_test):\n",
        "    if y == 1:\n",
        "        print(idx)"
      ],
      "execution_count": null,
      "outputs": [
        {
          "output_type": "stream",
          "text": [
            "0\n",
            "1\n",
            "2\n",
            "3\n",
            "4\n",
            "5\n",
            "6\n",
            "7\n",
            "8\n",
            "9\n",
            "10\n",
            "11\n",
            "12\n",
            "13\n",
            "14\n",
            "15\n",
            "16\n",
            "17\n",
            "18\n",
            "19\n",
            "20\n",
            "21\n",
            "22\n",
            "23\n",
            "24\n",
            "25\n",
            "26\n",
            "27\n",
            "28\n",
            "29\n",
            "30\n",
            "31\n",
            "32\n",
            "33\n",
            "34\n",
            "35\n",
            "36\n",
            "37\n",
            "38\n",
            "39\n",
            "40\n",
            "41\n",
            "42\n",
            "43\n",
            "44\n",
            "45\n",
            "46\n",
            "47\n",
            "48\n",
            "49\n",
            "50\n",
            "51\n",
            "52\n",
            "53\n",
            "54\n",
            "55\n",
            "56\n",
            "57\n",
            "58\n",
            "59\n",
            "60\n",
            "61\n",
            "62\n",
            "63\n",
            "64\n",
            "65\n",
            "66\n",
            "67\n",
            "68\n",
            "69\n",
            "70\n",
            "71\n",
            "72\n",
            "73\n",
            "74\n",
            "75\n",
            "76\n",
            "77\n",
            "78\n",
            "79\n",
            "80\n",
            "81\n",
            "82\n",
            "83\n",
            "84\n",
            "85\n",
            "86\n",
            "87\n",
            "88\n",
            "89\n",
            "90\n",
            "91\n",
            "92\n",
            "93\n",
            "94\n",
            "95\n",
            "96\n",
            "97\n",
            "98\n",
            "99\n"
          ],
          "name": "stdout"
        }
      ]
    },
    {
      "cell_type": "code",
      "metadata": {
        "colab": {
          "base_uri": "https://localhost:8080/"
        },
        "id": "4vxAJVvgeAaN",
        "outputId": "250cc37a-efcc-46db-bdfd-31e8836b0d1a"
      },
      "source": [
        "# TEST: Load model and run it against test set\n",
        "model = models.load_model(model_filename)\n",
        "for i in range(10, 20):\n",
        "    print('Answer:', y_test[i], ' Prediction:', model.predict(np.expand_dims(x_test[i], 0)))"
      ],
      "execution_count": null,
      "outputs": [
        {
          "output_type": "stream",
          "text": [
            "Answer: 1.0  Prediction: [[1.]]\n",
            "Answer: 1.0  Prediction: [[1.]]\n",
            "Answer: 1.0  Prediction: [[1.]]\n",
            "Answer: 1.0  Prediction: [[1.]]\n",
            "Answer: 1.0  Prediction: [[1.]]\n",
            "Answer: 1.0  Prediction: [[1.]]\n",
            "Answer: 1.0  Prediction: [[1.]]\n",
            "Answer: 1.0  Prediction: [[1.]]\n",
            "Answer: 1.0  Prediction: [[1.]]\n",
            "Answer: 1.0  Prediction: [[1.]]\n"
          ],
          "name": "stdout"
        }
      ]
    },
    {
      "cell_type": "code",
      "metadata": {
        "colab": {
          "base_uri": "https://localhost:8080/"
        },
        "id": "YXOQEt01eAaN",
        "outputId": "b2e67dbb-afe9-4468-b5d8-53ce4daeee98"
      },
      "source": [
        "# Evaluate model with test set\n",
        "model.evaluate(x=x_test, y=y_test)"
      ],
      "execution_count": null,
      "outputs": [
        {
          "output_type": "stream",
          "text": [
            "4/4 [==============================] - 0s 4ms/step - loss: 8.0287e-10 - acc: 1.0000\n"
          ],
          "name": "stdout"
        },
        {
          "output_type": "execute_result",
          "data": {
            "text/plain": [
              "[8.028742670695976e-10, 1.0]"
            ]
          },
          "metadata": {
            "tags": []
          },
          "execution_count": 55
        }
      ]
    },
    {
      "cell_type": "code",
      "metadata": {
        "id": "qmn1MA0jeAaN"
      },
      "source": [
        ""
      ],
      "execution_count": null,
      "outputs": []
    }
  ]
}